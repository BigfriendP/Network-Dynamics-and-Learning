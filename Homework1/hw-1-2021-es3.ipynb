{
 "cells": [
  {
   "cell_type": "markdown",
   "metadata": {},
   "source": [
    "# Homework 1 - Esercizio 3 \n",
    "## Pierluigi Compagnone"
   ]
  },
  {
   "cell_type": "code",
   "execution_count": 1,
   "metadata": {},
   "outputs": [],
   "source": [
    "import scipy\n",
    "from scipy import io\n",
    "import cvxpy as cp\n",
    "import numpy as np"
   ]
  },
  {
   "cell_type": "code",
   "execution_count": 2,
   "metadata": {},
   "outputs": [],
   "source": [
    "#loading the useful files\n",
    "\n",
    "file = io.loadmat('files/capacities.mat')\n",
    "capacities = file.get('capacities')\n",
    "capacities = capacities.reshape(28,)\n",
    "\n",
    "file = io.loadmat('files/traveltime.mat')\n",
    "traveltime = file.get('traveltime')\n",
    "traveltime = traveltime.reshape(28,)\n",
    "\n",
    "file = io.loadmat('files/flow.mat')\n",
    "flow = file.get('flow')\n",
    "flow = flow.reshape(28,)\n",
    "\n",
    "file = io.loadmat('files/traffic.mat')\n",
    "traffic = file.get('traffic')\n"
   ]
  },
  {
   "cell_type": "markdown",
   "metadata": {},
   "source": [
    "**(a)** Find the shortest path between node 1 and 17. This is equivalent to the fastest path (path\n",
    "with shortest traveling time) in an empty network"
   ]
  },
  {
   "cell_type": "code",
   "execution_count": 3,
   "metadata": {},
   "outputs": [
    {
     "name": "stdout",
     "output_type": "stream",
     "text": [
      "The resulting flow vector is: [1. 1. 0. 0. 0. 0. 0. 0. 1. 0. 0. 1. 0. 0. 0. 0. 0. 0. 0. 0. 0. 0. 0. 0.\n",
      " 1. 0. 0. 0.]\n",
      "\n",
      "So the shortest path is:  ['l1', 'l2', 'l9', 'l12', 'l25'] \n",
      "\n"
     ]
    }
   ],
   "source": [
    "#finding the number of nodes and links from the node-link incidence matrix \n",
    "#and setting the exogenous net flow vector for the shortest path between 1 and 17\n",
    "\n",
    "n_nodes = traffic.shape[0]\n",
    "n_edges = traffic.shape[1]\n",
    "\n",
    "source_node = 1\n",
    "destination_node = 17\n",
    "\n",
    "nu = np.zeros(n_nodes)\n",
    "nu[source_node-1] = 1\n",
    "nu[destination_node-1] = -1 \n",
    "\n",
    "#defining the shortest path optimization problem\n",
    "\n",
    "f_sp = cp.Variable(n_edges)\n",
    "objective_sp = cp.Minimize(traveltime.T @ f_sp)\n",
    "constraints_sp = [traffic @ f_sp == nu, f_sp >=0]\n",
    "sp_problem = cp.Problem(objective_sp, constraints_sp)\n",
    "\n",
    "res = sp_problem.solve()\n",
    "f =  np.round(f_sp.value,2)\n",
    "\n",
    "print(\"The resulting flow vector is:\", f)\n",
    "\n",
    "sp = []\n",
    "for i in range(len(f)):\n",
    "    if f[i] == 1:\n",
    "        sp.append(\"l{}\".format(i+1))\n",
    "        \n",
    "print(\"\\nSo the shortest path is: \", sp,\"\\n\")        "
   ]
  },
  {
   "cell_type": "markdown",
   "metadata": {},
   "source": [
    "**(b)** Find the maximum flow between node 1 and 17."
   ]
  },
  {
   "cell_type": "code",
   "execution_count": 4,
   "metadata": {},
   "outputs": [
    {
     "name": "stdout",
     "output_type": "stream",
     "text": [
      "The maximum throughput between 1 and 17 is: 22448.0\n",
      "\n",
      "and it is obtained with the flow vector: [ 8741.    7200.35  5181.46  3471.54 13707.    6025.3   4904.63  3485.32\n",
      "  3558.71  1540.65  1010.41  1008.48  1709.92  3471.54  7681.7   4795.81\n",
      "  5547.21  2661.32  2429.72  2645.01  5274.99  7920.    3317.94  1950.54\n",
      "  8160.76  6789.49  7497.75  7497.75] \n",
      "\n"
     ]
    }
   ],
   "source": [
    "#defining and solving the maximum flow problem\n",
    "\n",
    "tau = cp.Variable()\n",
    "flows = cp.Variable(n_edges)\n",
    "objective = cp.Maximize(tau)\n",
    "constraints = [tau >= 0, flows >= 0, flows <= capacities, traffic @ flows == tau*nu]\n",
    "p = cp.Problem(objective, constraints)\n",
    "\n",
    "res = p.solve()\n",
    "\n",
    "print(\"The maximum throughput between 1 and 17 is:\", np.round(tau.value,2))\n",
    "print(\"\\nand it is obtained with the flow vector:\", np.round(flows.value,2),\"\\n\")"
   ]
  },
  {
   "cell_type": "markdown",
   "metadata": {},
   "source": [
    "**(c)** Given the flow vector in flow.mat, compute the external inflow $v$ satisfying $Bf = ν$."
   ]
  },
  {
   "cell_type": "code",
   "execution_count": 5,
   "metadata": {},
   "outputs": [
    {
     "name": "stdout",
     "output_type": "stream",
     "text": [
      "the resulting external inflow is v:  [ 16806   8570  19448   4957   -746   4768    413     -2  -5671   1169\n",
      "     -5  -7131   -380  -7412  -7810  -3430 -23544] \n",
      "\n"
     ]
    }
   ],
   "source": [
    "#calculating v\n",
    "\n",
    "v = traffic @ flow\n",
    "print(\"the resulting external inflow is v: \", v,\"\\n\")"
   ]
  },
  {
   "cell_type": "markdown",
   "metadata": {},
   "source": [
    "In the following, we assume that the exogenous inflow is zero in all the nodes except for node $1$,\n",
    "for which $ν_1$ has the same value computed in the point **(c)**, and node $17$, for which $ν_{17} = −ν_1$."
   ]
  },
  {
   "cell_type": "code",
   "execution_count": 6,
   "metadata": {},
   "outputs": [
    {
     "name": "stdout",
     "output_type": "stream",
     "text": [
      "the exogenous flow becomes:  [ 16806.      0.      0.      0.      0.      0.      0.      0.      0.\n",
      "      0.      0.      0.      0.      0.      0.      0. -16806.] \n",
      "\n"
     ]
    }
   ],
   "source": [
    "#building exogenous flow as written in the assignment\n",
    "\n",
    "v1 = v[0]\n",
    "exogenous_inflow = np.zeros(n_nodes)\n",
    "exogenous_inflow[source_node-1] = v1\n",
    "exogenous_inflow[destination_node-1] = -v1\n",
    "print(\"the exogenous flow becomes: \",exogenous_inflow,\"\\n\")"
   ]
  },
  {
   "cell_type": "markdown",
   "metadata": {},
   "source": [
    "**(d)** Find the social optimum $f^*$ with respect to the delays on the different links $d_e(f_e)$."
   ]
  },
  {
   "cell_type": "code",
   "execution_count": 7,
   "metadata": {},
   "outputs": [
    {
     "name": "stdout",
     "output_type": "stream",
     "text": [
      "The social optimum flow is:  [ 6642.3   6058.9   3132.4   3132.4  10163.7   4638.4   3006.36  2542.59\n",
      "  3131.52   583.4      0.    2926.5      0.    3132.4   5525.3   2854.3\n",
      "  4886.44  2215.44   463.78  2337.56  3318.08  5655.64  2373.04     0.\n",
      "  6414.12  5505.44  4886.44  4886.44]\n",
      "\n",
      "The cost relative to this flow is:  25943.62 \n",
      "\n"
     ]
    }
   ],
   "source": [
    "#defining the social optimum traffic assignment problem\n",
    "\n",
    "flows_SO = cp.Variable(n_edges)\n",
    "objective_SO = cp.Minimize((traveltime * capacities) @ cp.power((1 - flows_SO / capacities),-1) - traveltime @ capacities)\n",
    "constraints_SO = [traffic @ flows_SO == exogenous_inflow, flows_SO >= 0]\n",
    "\n",
    "\n",
    "\n",
    "problem_SO = cp.Problem(objective_SO, constraints_SO)\n",
    "\n",
    "res_SO = problem_SO.solve()\n",
    "\n",
    "print(\"The social optimum flow is: \", np.round(flows_SO.value,2))\n",
    "print(\"\\nThe cost relative to this flow is: \", np.round(res_SO,2),\"\\n\")\n"
   ]
  },
  {
   "cell_type": "markdown",
   "metadata": {},
   "source": [
    "**(e)** Find the Wardrop equilibrium $f^{(0)}$"
   ]
  },
  {
   "cell_type": "code",
   "execution_count": 8,
   "metadata": {},
   "outputs": [
    {
     "name": "stdout",
     "output_type": "stream",
     "text": [
      "The Wardrop equilibrium flow is:  [ 6715.65  6715.64  2367.41  2367.41 10090.35  4645.39  2803.84  2283.56\n",
      "  3418.48     0.     176.83  4171.41     0.    2367.41  5444.96  2353.17\n",
      "  4933.34  1841.55   697.11  3036.49  3050.28  6086.77  2586.51     0.\n",
      "  6918.74  4953.92  4933.34  4933.34]\n",
      "\n",
      "The cost relative to this flow is:  15729.61 \n",
      "\n"
     ]
    }
   ],
   "source": [
    "#calculate the Wardrop equilibrium flow\n",
    "\n",
    "flows_W = cp.Variable(n_edges)\n",
    "objective_W = cp.Minimize((traveltime * capacities) @ (np.log(capacities) - cp.log(capacities-flows_W)))\n",
    "\n",
    "constraints_W = [traffic @ flows_W == exogenous_inflow, flows_W >= 0]\n",
    "\n",
    "problem_W = cp.Problem(objective_W, constraints_W)\n",
    "\n",
    "res_W = problem_W.solve()\n",
    "\n",
    "print(\"The Wardrop equilibrium flow is: \", np.round(flows_W.value,2))\n",
    "print(\"\\nThe cost relative to this flow is: \", np.round(res_W,2),\"\\n\")"
   ]
  },
  {
   "cell_type": "code",
   "execution_count": 9,
   "metadata": {},
   "outputs": [
    {
     "name": "stdout",
     "output_type": "stream",
     "text": [
      "the total delay at the Wardrop equilibrium is:  26292.96 \n",
      "\n",
      "the price of anarchy is:  1.0135 \n",
      "\n"
     ]
    }
   ],
   "source": [
    "#calculating the price of anarchy to understan how much worse is the Wardrop equilibrium than Social optimum\n",
    "\n",
    "#total delay function\n",
    "\n",
    "def so_cost(f):\n",
    "    cost_vec = (traveltime * capacities) / (1 - f / capacities) - traveltime * capacities\n",
    "    return cost_vec.sum()\n",
    "\n",
    "#calculate the total delay of the Wardrop equilibrium\n",
    "\n",
    "cost_w = so_cost(flows_W.value)\n",
    "\n",
    "print(\"the total delay at the Wardrop equilibrium is: \",np.round(cost_w,2),\"\\n\")\n",
    "\n",
    "PoA = cost_w/res_SO\n",
    "print(\"the price of anarchy is: \", np.round(PoA,4),\"\\n\")\n"
   ]
  },
  {
   "cell_type": "markdown",
   "metadata": {},
   "source": [
    "**(e)** Introduce tolls, such that the toll on link $e$ is $ω_e = f_e^* d_e'(f_e^* )$, where $f_e^* $ is the flow at the\n",
    "system optimum. Now the delay on link e is given by $d_e(f_e) + ω_e$. compute the new Wardrop\n",
    "equilibrium $f^{(ω)}$. What do you observe?"
   ]
  },
  {
   "cell_type": "code",
   "execution_count": 10,
   "metadata": {},
   "outputs": [
    {
     "name": "stdout",
     "output_type": "stream",
     "text": [
      "The constructed tolls are:  [1.92 0.19 0.05 0.11 1.44 0.47 0.11 0.06 0.28 0.01 0.   0.08 0.   0.13\n",
      " 0.48 0.08 0.07 0.02 0.   0.01 0.07 0.26 0.07 0.   0.41 0.29 0.19 0.53]\n"
     ]
    }
   ],
   "source": [
    "#calculating the tolls\n",
    "\n",
    "SO_flow = flows_SO.value\n",
    "w = SO_flow * ((traveltime * capacities)/(capacities - SO_flow)**2) \n",
    "print(\"The constructed tolls are: \", np.round(w,2))"
   ]
  },
  {
   "cell_type": "code",
   "execution_count": 11,
   "metadata": {},
   "outputs": [
    {
     "name": "stdout",
     "output_type": "stream",
     "text": [
      "The new Wardrop equilibrium flow is:  [ 6642.3   6059.07  3132.3   3132.3  10163.69  4638.01  3006.25  2542.45\n",
      "  3131.54   583.24     0.    2926.77     0.    3132.3   5525.68  2854.25\n",
      "  4886.43  2215.     463.8   2337.68  3318.06  5655.73  2373.17     0.\n",
      "  6414.11  5505.46  4886.43  4886.43]\n",
      "\n",
      "The cost relative to this flow is:  61885.97\n"
     ]
    }
   ],
   "source": [
    "#defining the Wardrop equilibrium flow with tolls\n",
    "\n",
    "flows_W1 = cp.Variable(n_edges)\n",
    "objective_W1 = cp.Minimize(((traveltime * capacities) @ (np.log(capacities) - cp.log(capacities-flows_W1))) + w @ flows_W1)\n",
    "constraints_W1 = [traffic @ flows_W1 == exogenous_inflow, flows_W1 >= 0]\n",
    "\n",
    "problem_W1 = cp.Problem(objective_W1, constraints_W1)\n",
    "\n",
    "res_W1 = problem_W1.solve()\n",
    "\n",
    "print(\"The new Wardrop equilibrium flow is: \", np.round(flows_W1.value,2))\n",
    "print(\"\\nThe cost relative to this flow is: \", np.round(res_W1,2))"
   ]
  },
  {
   "cell_type": "code",
   "execution_count": 12,
   "metadata": {},
   "outputs": [
    {
     "name": "stdout",
     "output_type": "stream",
     "text": [
      "the total delay at the Wardrop equilibrium with tolls is:  25943.62 \n",
      "\n",
      "\n",
      "the price of anarchy after the introduction of tolls is:  1.0 \n",
      "\n",
      "So the tolls are well designed\n",
      "\n"
     ]
    }
   ],
   "source": [
    "#calculating the price of anarchy of the Wardrop equilibrium with tolls\n",
    "\n",
    "#calculating the total delay of the Wardrop equilibrium with tolls \n",
    "\n",
    "cost_w1 = so_cost(flows_W1.value)\n",
    "\n",
    "print(\"the total delay at the Wardrop equilibrium with tolls is: \",np.round(cost_w1,2),\"\\n\")\n",
    "\n",
    "PoA1 = cost_w1/res_SO\n",
    "print(\"\\nthe price of anarchy after the introduction of tolls is: \", np.round(PoA1,4),\"\\n\")\n",
    "\n",
    "if np.round(PoA1) == 1:\n",
    "    print(\"So the tolls are well designed\\n\")"
   ]
  },
  {
   "cell_type": "markdown",
   "metadata": {},
   "source": [
    "**(d)** Instead of the total delay, let the cost be the total additional delay compared to the total delay in free flow.\n",
    "\n",
    "$$c_e(f_e) = f_e(d_e(f_e) −l_e)$$\n",
    "\n",
    "subject to the flow constraints. Compute the system optimum $f^∗$ for the costs above. \n",
    "Construct tolls $ω_e^*$, $e ∈ \\epsilon$ such that the new Wardrop equilibrium with the constructed tolls $f(ω^∗)$\n",
    "coincides with $f^∗$. Compute the new Wardrop equilibrium with the constructed tolls $f(ω^∗)$\n",
    "to verify your result."
   ]
  },
  {
   "cell_type": "code",
   "execution_count": 13,
   "metadata": {},
   "outputs": [
    {
     "name": "stdout",
     "output_type": "stream",
     "text": [
      "The new social optimum flow is:  [ 6653.3  5774.7  3419.7  3419.7 10152.7  4642.7  3105.8  2662.2  3009.1\n",
      "   878.6     0.   2354.9     0.   3419.7  5510.   3043.7  4881.8  2415.5\n",
      "   443.7  2008.   3487.4  5495.4  2203.8     0.   6300.7  5623.5  4881.8\n",
      "  4881.8]\n",
      "\n",
      "The cost relative to this flow is:  15095.51 \n",
      "\n"
     ]
    }
   ],
   "source": [
    "#calculate the social optimum flow using the new delay defined in point (d)\n",
    "\n",
    "flows_SO1 = cp.Variable(n_edges)\n",
    "objective_SO1 = cp.Minimize(((traveltime * capacities) @ cp.power((1 - flows_SO1 / capacities),-1) - traveltime @ capacities) - traveltime @ flows_SO1)\n",
    "constraints_SO1 = [traffic @ flows_SO1 == exogenous_inflow, flows_SO1 >= 0]\n",
    "\n",
    "\n",
    "\n",
    "problem_SO1 = cp.Problem(objective_SO1, constraints_SO1)\n",
    "\n",
    "res_SO1 = problem_SO1.solve()\n",
    "\n",
    "print(\"The new social optimum flow is: \", np.round(flows_SO1.value,1) )\n",
    "\n",
    "print(\"\\nThe cost relative to this flow is: \", np.round(res_SO1,2),\"\\n\")\n"
   ]
  },
  {
   "cell_type": "code",
   "execution_count": 14,
   "metadata": {},
   "outputs": [
    {
     "name": "stdout",
     "output_type": "stream",
     "text": [
      "the tolls to introduce are:  [1.95 0.15 0.06 0.12 1.43 0.47 0.12 0.06 0.25 0.01 0.   0.05 0.   0.15\n",
      " 0.48 0.1  0.07 0.02 0.   0.01 0.07 0.24 0.06 0.   0.38 0.31 0.19 0.53] \n",
      "\n"
     ]
    }
   ],
   "source": [
    "#calculate the new tolls\n",
    "\n",
    "SO1_flow = flows_SO1.value\n",
    "w1 = SO1_flow * ((traveltime * capacities)/(capacities - SO1_flow)**2)\n",
    "print(\"the tolls to introduce are: \", np.round(w1,2),\"\\n\")"
   ]
  },
  {
   "cell_type": "code",
   "execution_count": 15,
   "metadata": {},
   "outputs": [
    {
     "name": "stdout",
     "output_type": "stream",
     "text": [
      "The Wardrop equilibrium flow, considering the tolls and the new delay function, is:  [ 6653.37  5775.47  3419.42  3419.42 10152.63  4642.73  3105.49  2661.73\n",
      "  3009.22   877.9      0.    2356.05     0.    3419.42  5509.9   3043.32\n",
      "  4881.71  2415.14   443.77  2008.56  3487.09  5495.65  2204.03     0.\n",
      "  6300.84  5623.45  4881.71  4881.71]\n",
      "\n",
      "The cost relative to this flow is:  50795.81 \n",
      "\n"
     ]
    }
   ],
   "source": [
    "#calculate the Wardrop equilibrium flow considering the new additional delay function and the tolls calculated in the previous step\n",
    "\n",
    "flows_W2 = cp.Variable(n_edges)\n",
    "objective_W2 = cp.Minimize(((traveltime * capacities) @ (np.log(capacities) - cp.log(capacities-flows_W2))) - (traveltime @ flows_W2) + (w1 @ flows_W2))\n",
    "constraints_W2 = [traffic @ flows_W2 == exogenous_inflow, flows_W2 >= 0]\n",
    "\n",
    "problem_W2 = cp.Problem(objective_W2, constraints_W2)\n",
    "\n",
    "res_W2 = problem_W2.solve()\n",
    "\n",
    "print(\"The Wardrop equilibrium flow, considering the tolls and the new delay function, is: \", np.round(flows_W2.value,2))\n",
    "print(\"\\nThe cost relative to this flow is: \", np.round(res_W2,2),\"\\n\")"
   ]
  },
  {
   "cell_type": "code",
   "execution_count": 16,
   "metadata": {},
   "outputs": [
    {
     "name": "stdout",
     "output_type": "stream",
     "text": [
      "The total delay at the Wardrop equilibrium with the constructed tolls is:  25943.62\n",
      "\n",
      "The correspondent price of anarchy is:  1.0\n",
      "\n",
      "So the tolls are well designed\n",
      "\n"
     ]
    }
   ],
   "source": [
    "#calculate the price of anarchy to check if the tolls are well designed\n",
    "\n",
    "#new total delay function\n",
    "\n",
    "def so1_cost(f):\n",
    "    cost_vec = ((traveltime * capacities)/(1 - f / capacities) - traveltime * capacities) - traveltime * f\n",
    "    return cost_vec.sum()\n",
    "\n",
    "#total delay for founded Wardrop equilibrium with tolls\n",
    "\n",
    "cost_w2 = so1_cost(flows_W2.value)\n",
    "print(\"The total delay at the Wardrop equilibrium with the constructed tolls is: \", np.round(cost_w1,2))\n",
    "\n",
    "PoA2 = cost_w2/res_SO1\n",
    "\n",
    "print(\"\\nThe correspondent price of anarchy is: \", np.round(PoA2))\n",
    "\n",
    "if np.round(PoA2) == 1:\n",
    "    print(\"\\nSo the tolls are well designed\\n\")"
   ]
  }
 ],
 "metadata": {
  "kernelspec": {
   "display_name": "Python 3",
   "language": "python",
   "name": "python3"
  },
  "language_info": {
   "codemirror_mode": {
    "name": "ipython",
    "version": 3
   },
   "file_extension": ".py",
   "mimetype": "text/x-python",
   "name": "python",
   "nbconvert_exporter": "python",
   "pygments_lexer": "ipython3",
   "version": "3.7.4"
  }
 },
 "nbformat": 4,
 "nbformat_minor": 4
}
